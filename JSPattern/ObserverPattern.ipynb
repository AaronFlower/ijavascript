{
 "cells": [
  {
   "cell_type": "markdown",
   "metadata": {},
   "source": [
    "## IJavascript\n",
    "### JS Observer Pattern 观察者模式\n"
   ]
  },
  {
   "cell_type": "code",
   "execution_count": 5,
   "metadata": {
    "collapsed": false
   },
   "outputs": [
    {
     "name": "stdout",
     "output_type": "stream",
     "text": [
      "\t Subscriber Handler 1! Fire in the hole\n"
     ]
    },
    {
     "data": {
      "text/plain": [
       "undefined"
      ]
     },
     "execution_count": 5,
     "metadata": {},
     "output_type": "execute_result"
    }
   ],
   "source": [
    "function Click () {\n",
    "    this.handlers = []\n",
    "}\n",
    "\n",
    "Click.prototype = {\n",
    "    subscribe: function(fn) {\n",
    "        this.handlers.push(fn)\n",
    "    },\n",
    "    \n",
    "    unsubscrible: function(fn) {\n",
    "        this.handlers = this.handlers.filter(function (item) {\n",
    "            return item != fn\n",
    "        })\n",
    "    },\n",
    "    \n",
    "    fire: function (o, thisObj) {\n",
    "        var scope = thisObj\n",
    "        this.handlers.forEach(function (fn) {\n",
    "            fn.call(scope, o)\n",
    "        })\n",
    "    }\n",
    "}\n",
    "\n",
    "\n",
    "var click = new Click()\n",
    "\n",
    "var subHandler1 = function (msg) {\n",
    "    console.log(\"\\t Subscriber Handler 1!\", msg)\n",
    "}\n",
    "click.subscribe(subHandler1)\n",
    "click.fire('Fire in the hole')"
   ]
  },
  {
   "cell_type": "code",
   "execution_count": null,
   "metadata": {
    "collapsed": true
   },
   "outputs": [],
   "source": []
  }
 ],
 "metadata": {
  "kernelspec": {
   "display_name": "Javascript (Node.js)",
   "language": "javascript",
   "name": "javascript"
  },
  "language_info": {
   "file_extension": ".js",
   "mimetype": "application/javascript",
   "name": "javascript",
   "version": "7.5.0"
  }
 },
 "nbformat": 4,
 "nbformat_minor": 2
}
